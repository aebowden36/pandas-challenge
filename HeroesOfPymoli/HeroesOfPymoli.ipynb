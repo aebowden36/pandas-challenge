{
 "cells": [
  {
   "cell_type": "code",
   "execution_count": 2,
   "metadata": {},
   "outputs": [
    {
     "output_type": "execute_result",
     "data": {
      "text/plain": [
       "   Purchase ID             SN  Age Gender  Item ID  \\\n",
       "0            0        Lisim78   20   Male      108   \n",
       "1            1    Lisovynya38   40   Male      143   \n",
       "2            2     Ithergue48   24   Male       92   \n",
       "3            3  Chamassasya86   24   Male      100   \n",
       "4            4      Iskosia90   23   Male      131   \n",
       "\n",
       "                                   Item Name  Price  \n",
       "0  Extraction, Quickblade Of Trembling Hands   3.53  \n",
       "1                          Frenzied Scimitar   1.56  \n",
       "2                               Final Critic   4.88  \n",
       "3                                Blindscythe   3.27  \n",
       "4                                       Fury   1.44  "
      ],
      "text/html": "<div>\n<style scoped>\n    .dataframe tbody tr th:only-of-type {\n        vertical-align: middle;\n    }\n\n    .dataframe tbody tr th {\n        vertical-align: top;\n    }\n\n    .dataframe thead th {\n        text-align: right;\n    }\n</style>\n<table border=\"1\" class=\"dataframe\">\n  <thead>\n    <tr style=\"text-align: right;\">\n      <th></th>\n      <th>Purchase ID</th>\n      <th>SN</th>\n      <th>Age</th>\n      <th>Gender</th>\n      <th>Item ID</th>\n      <th>Item Name</th>\n      <th>Price</th>\n    </tr>\n  </thead>\n  <tbody>\n    <tr>\n      <th>0</th>\n      <td>0</td>\n      <td>Lisim78</td>\n      <td>20</td>\n      <td>Male</td>\n      <td>108</td>\n      <td>Extraction, Quickblade Of Trembling Hands</td>\n      <td>3.53</td>\n    </tr>\n    <tr>\n      <th>1</th>\n      <td>1</td>\n      <td>Lisovynya38</td>\n      <td>40</td>\n      <td>Male</td>\n      <td>143</td>\n      <td>Frenzied Scimitar</td>\n      <td>1.56</td>\n    </tr>\n    <tr>\n      <th>2</th>\n      <td>2</td>\n      <td>Ithergue48</td>\n      <td>24</td>\n      <td>Male</td>\n      <td>92</td>\n      <td>Final Critic</td>\n      <td>4.88</td>\n    </tr>\n    <tr>\n      <th>3</th>\n      <td>3</td>\n      <td>Chamassasya86</td>\n      <td>24</td>\n      <td>Male</td>\n      <td>100</td>\n      <td>Blindscythe</td>\n      <td>3.27</td>\n    </tr>\n    <tr>\n      <th>4</th>\n      <td>4</td>\n      <td>Iskosia90</td>\n      <td>23</td>\n      <td>Male</td>\n      <td>131</td>\n      <td>Fury</td>\n      <td>1.44</td>\n    </tr>\n  </tbody>\n</table>\n</div>"
     },
     "metadata": {},
     "execution_count": 2
    }
   ],
   "source": [
    "# Dependencies and Setup\n",
    "import pandas as pd\n",
    "\n",
    "# File to Load (Remember to Change These)\n",
    "file = \"Resources/purchase_data.csv\"\n",
    "\n",
    "# Read Purchasing File and store into Pandas data frame\n",
    "heroes_df = pd.read_csv(file)\n",
    "heroes_df.head()"
   ]
  },
  {
   "source": [
    "#Player Count\n",
    "unique_heroes = len(heroes_df[\"SN\"].unique())"
   ],
   "cell_type": "code",
   "metadata": {},
   "execution_count": 3,
   "outputs": []
  },
  {
   "cell_type": "code",
   "execution_count": 4,
   "metadata": {},
   "outputs": [
    {
     "output_type": "execute_result",
     "data": {
      "text/plain": [
       "   Total Players\n",
       "0            576"
      ],
      "text/html": "<div>\n<style scoped>\n    .dataframe tbody tr th:only-of-type {\n        vertical-align: middle;\n    }\n\n    .dataframe tbody tr th {\n        vertical-align: top;\n    }\n\n    .dataframe thead th {\n        text-align: right;\n    }\n</style>\n<table border=\"1\" class=\"dataframe\">\n  <thead>\n    <tr style=\"text-align: right;\">\n      <th></th>\n      <th>Total Players</th>\n    </tr>\n  </thead>\n  <tbody>\n    <tr>\n      <th>0</th>\n      <td>576</td>\n    </tr>\n  </tbody>\n</table>\n</div>"
     },
     "metadata": {},
     "execution_count": 4
    }
   ],
   "source": [
    "#player count summary table\n",
    "player_count_df = pd.DataFrame({\"Total Players\": [unique_heroes]}) \n",
    "player_count_df"
   ]
  },
  {
   "cell_type": "code",
   "execution_count": 5,
   "metadata": {},
   "outputs": [],
   "source": [
    "#item count\n",
    "unique_items = len(heroes_df[\"Item Name\"].unique())"
   ]
  },
  {
   "cell_type": "code",
   "execution_count": 6,
   "metadata": {},
   "outputs": [],
   "source": [
    "#average purchase price\n",
    "average_price = round(heroes_df[\"Price\"].mean(), 2)"
   ]
  },
  {
   "cell_type": "code",
   "execution_count": 7,
   "metadata": {},
   "outputs": [],
   "source": [
    "#total number of purchases\n",
    "total_purchases = heroes_df[\"Item Name\"].count()"
   ]
  },
  {
   "cell_type": "code",
   "execution_count": 8,
   "metadata": {},
   "outputs": [],
   "source": [
    "#total revenue\n",
    "revenue = heroes_df[\"Price\"].sum()"
   ]
  },
  {
   "cell_type": "code",
   "execution_count": 9,
   "metadata": {},
   "outputs": [
    {
     "output_type": "execute_result",
     "data": {
      "text/plain": [
       "   Number of Unique Items  Average Price  Number of Purchases  Total Revenue\n",
       "0                     179           3.05                  780        2379.77"
      ],
      "text/html": "<div>\n<style scoped>\n    .dataframe tbody tr th:only-of-type {\n        vertical-align: middle;\n    }\n\n    .dataframe tbody tr th {\n        vertical-align: top;\n    }\n\n    .dataframe thead th {\n        text-align: right;\n    }\n</style>\n<table border=\"1\" class=\"dataframe\">\n  <thead>\n    <tr style=\"text-align: right;\">\n      <th></th>\n      <th>Number of Unique Items</th>\n      <th>Average Price</th>\n      <th>Number of Purchases</th>\n      <th>Total Revenue</th>\n    </tr>\n  </thead>\n  <tbody>\n    <tr>\n      <th>0</th>\n      <td>179</td>\n      <td>3.05</td>\n      <td>780</td>\n      <td>2379.77</td>\n    </tr>\n  </tbody>\n</table>\n</div>"
     },
     "metadata": {},
     "execution_count": 9
    }
   ],
   "source": [
    "#Purchasing Analysis (Total) summary table\n",
    "total_purchasing_analysis_df = pd.DataFrame({\"Number of Unique Items\":[unique_items],\"Average Price\":average_price,\"Number of Purchases\":total_purchases,\"Total Revenue\":revenue})\n",
    "total_purchasing_analysis_df"
   ]
  },
  {
   "cell_type": "code",
   "execution_count": 10,
   "metadata": {},
   "outputs": [],
   "source": [
    "#count of male players\n",
    "male_df = heroes_df.loc[heroes_df[\"Gender\"] == \"Male\",\"SN\"]\n",
    "total_male = len(male_df.unique())\n",
    "#total percentage of male players\n",
    "percent_male = round((total_male/unique_heroes)*100, 2)"
   ]
  },
  {
   "cell_type": "code",
   "execution_count": 11,
   "metadata": {},
   "outputs": [],
   "source": [
    "#count of female players\n",
    "female_df = heroes_df.loc[heroes_df[\"Gender\"] == \"Female\",\"SN\"]\n",
    "total_female = len(female_df.unique())\n",
    "#total percentage of male players\n",
    "percent_female = round((total_female/unique_heroes)*100, 2)"
   ]
  },
  {
   "cell_type": "code",
   "execution_count": 12,
   "metadata": {},
   "outputs": [],
   "source": [
    "#count of unkown players\n",
    "other_df = heroes_df.loc[heroes_df[\"Gender\"] == \"Other / Non-Disclosed\",\"SN\"]\n",
    "total_other = len(other_df.unique())\n",
    "#total percentage of unknown players\n",
    "percent_other = round((total_other/unique_heroes)*100, 2)"
   ]
  },
  {
   "cell_type": "code",
   "execution_count": 133,
   "metadata": {},
   "outputs": [
    {
     "output_type": "execute_result",
     "data": {
      "text/plain": [
       "                Gender  Total Count  Percentage of Players\n",
       "0                 Male          484                  84.03\n",
       "1               Female           81                  14.06\n",
       "2  Other/Non-Disclosed           11                   1.91"
      ],
      "text/html": "<div>\n<style scoped>\n    .dataframe tbody tr th:only-of-type {\n        vertical-align: middle;\n    }\n\n    .dataframe tbody tr th {\n        vertical-align: top;\n    }\n\n    .dataframe thead th {\n        text-align: right;\n    }\n</style>\n<table border=\"1\" class=\"dataframe\">\n  <thead>\n    <tr style=\"text-align: right;\">\n      <th></th>\n      <th>Gender</th>\n      <th>Total Count</th>\n      <th>Percentage of Players</th>\n    </tr>\n  </thead>\n  <tbody>\n    <tr>\n      <th>0</th>\n      <td>Male</td>\n      <td>484</td>\n      <td>84.03</td>\n    </tr>\n    <tr>\n      <th>1</th>\n      <td>Female</td>\n      <td>81</td>\n      <td>14.06</td>\n    </tr>\n    <tr>\n      <th>2</th>\n      <td>Other/Non-Disclosed</td>\n      <td>11</td>\n      <td>1.91</td>\n    </tr>\n  </tbody>\n</table>\n</div>"
     },
     "metadata": {},
     "execution_count": 133
    }
   ],
   "source": [
    "#Gender demographics summary table\n",
    "gender_demographics_df = pd.DataFrame({\"Gender\":[\"Male\",\"Female\",\"Other/Non-Disclosed\"],\"Total Count\":[total_male,total_female,total_other],\"Percentage of Players\":[percent_male,percent_female,percent_other]})\n",
    "gender_demographics_df"
   ]
  },
  {
   "cell_type": "code",
   "execution_count": 14,
   "metadata": {},
   "outputs": [],
   "source": [
    "#male purchasing analysis\n",
    "male_purchasing_df = heroes_df.loc[heroes_df[\"Gender\"] == \"Male\",\"Price\"]\n",
    "male_purchase_count = male_purchasing_df.count()\n",
    "\n",
    "male_average_price = round(male_purchasing_df.mean(), 2)\n",
    "\n",
    "male_purchase_total = male_purchasing_df.sum()\n",
    "\n",
    "average_male_purchase = round(male_purchase_total/total_male,2)"
   ]
  },
  {
   "cell_type": "code",
   "execution_count": 15,
   "metadata": {},
   "outputs": [],
   "source": [
    "#female purchasing analysis\n",
    "female_purchasing_df = heroes_df.loc[heroes_df[\"Gender\"] == \"Female\",\"Price\"]\n",
    "female_purchase_count = female_purchasing_df.count()\n",
    "\n",
    "female_average_price = round(female_purchasing_df.mean(), 2)\n",
    "\n",
    "female_purchase_total = female_purchasing_df.sum()\n",
    "\n",
    "average_female_purchase = round(female_purchase_total/total_female,2)"
   ]
  },
  {
   "cell_type": "code",
   "execution_count": 16,
   "metadata": {},
   "outputs": [],
   "source": [
    "#unknown gender purchasing analysis\n",
    "other_purchasing_df = heroes_df.loc[heroes_df[\"Gender\"] == \"Other / Non-Disclosed\",\"Price\"]\n",
    "other_purchase_count = other_purchasing_df.count()\n",
    "\n",
    "other_average_price = round(other_purchasing_df.mean(), 2)\n",
    "\n",
    "other_purchase_total = other_purchasing_df.sum()\n",
    "\n",
    "average_other_purchase = round(other_purchase_total/total_other,2)"
   ]
  },
  {
   "cell_type": "code",
   "execution_count": 134,
   "metadata": {},
   "outputs": [
    {
     "output_type": "execute_result",
     "data": {
      "text/plain": [
       "                Gender  Purchase Count  Average Purchase Price  \\\n",
       "0                 Male             652                    3.02   \n",
       "1               Female             113                    3.20   \n",
       "2  Other/Non-Disclosed              15                    3.35   \n",
       "\n",
       "   Total Purchase Value  Average Total Purchase per Person  \n",
       "0               1967.64                               4.07  \n",
       "1                361.94                               4.47  \n",
       "2                 50.19                               4.56  "
      ],
      "text/html": "<div>\n<style scoped>\n    .dataframe tbody tr th:only-of-type {\n        vertical-align: middle;\n    }\n\n    .dataframe tbody tr th {\n        vertical-align: top;\n    }\n\n    .dataframe thead th {\n        text-align: right;\n    }\n</style>\n<table border=\"1\" class=\"dataframe\">\n  <thead>\n    <tr style=\"text-align: right;\">\n      <th></th>\n      <th>Gender</th>\n      <th>Purchase Count</th>\n      <th>Average Purchase Price</th>\n      <th>Total Purchase Value</th>\n      <th>Average Total Purchase per Person</th>\n    </tr>\n  </thead>\n  <tbody>\n    <tr>\n      <th>0</th>\n      <td>Male</td>\n      <td>652</td>\n      <td>3.02</td>\n      <td>1967.64</td>\n      <td>4.07</td>\n    </tr>\n    <tr>\n      <th>1</th>\n      <td>Female</td>\n      <td>113</td>\n      <td>3.20</td>\n      <td>361.94</td>\n      <td>4.47</td>\n    </tr>\n    <tr>\n      <th>2</th>\n      <td>Other/Non-Disclosed</td>\n      <td>15</td>\n      <td>3.35</td>\n      <td>50.19</td>\n      <td>4.56</td>\n    </tr>\n  </tbody>\n</table>\n</div>"
     },
     "metadata": {},
     "execution_count": 134
    }
   ],
   "source": [
    "#purchasing analysis (gender) summary table\n",
    "gender_purchasing_analysis_df = pd.DataFrame({\"Gender\":[\"Male\",\"Female\",\"Other/Non-Disclosed\"],\"Purchase Count\":[male_purchase_count,female_purchase_count,other_purchase_count],\"Average Purchase Price\":[male_average_price,female_average_price,other_average_price],\"Total Purchase Value\":[male_purchase_total,female_purchase_total,other_purchase_total],\"Average Total Purchase per Person\":[average_male_purchase,average_female_purchase,average_other_purchase]})\n",
    "gender_purchasing_analysis_df"
   ]
  },
  {
   "cell_type": "code",
   "execution_count": 18,
   "metadata": {},
   "outputs": [],
   "source": [
    "unique_users = heroes_df.groupby(\"SN\")\n",
    "\n",
    "unique_users_df = pd.DataFrame(unique_users[\"Age\"].unique())"
   ]
  },
  {
   "cell_type": "code",
   "execution_count": 34,
   "metadata": {},
   "outputs": [],
   "source": [
    "#age demographics\n",
    "bins = [0,9,14,19,24,29,34,39,90]\n",
    "\n",
    "labels = [\"<10\", \"10-14\", \"15-19\", \"20-24\", \"25-29\", \"30-34\", \"35-39\", \"40+\"]\n",
    "\n",
    "unique_users_df[\"Age Demographics\"] = pd.cut(unique_users_df[\"Age\"], bins, labels=labels)"
   ]
  },
  {
   "cell_type": "code",
   "execution_count": 57,
   "metadata": {},
   "outputs": [],
   "source": [
    "#count and percentage of each age range\n",
    "age_count_group = unique_users_df.groupby(\"Age Demographics\")\n",
    "age_count = age_count_group.count()\n",
    "print(age_count)\n",
    "age_percentage = round((age_count/unique_heroes)*100, 2)"
   ]
  },
  {
   "cell_type": "code",
   "execution_count": 36,
   "metadata": {},
   "outputs": [
    {
     "output_type": "execute_result",
     "data": {
      "text/plain": [
       "                  Total Count  Percentage of Players\n",
       "Age Demographics                                    \n",
       "<10                        17                   2.95\n",
       "10-14                      22                   3.82\n",
       "15-19                     107                  18.58\n",
       "20-24                     258                  44.79\n",
       "25-29                      77                  13.37\n",
       "30-34                      52                   9.03\n",
       "35-39                      31                   5.38\n",
       "40+                        12                   2.08"
      ],
      "text/html": "<div>\n<style scoped>\n    .dataframe tbody tr th:only-of-type {\n        vertical-align: middle;\n    }\n\n    .dataframe tbody tr th {\n        vertical-align: top;\n    }\n\n    .dataframe thead th {\n        text-align: right;\n    }\n</style>\n<table border=\"1\" class=\"dataframe\">\n  <thead>\n    <tr style=\"text-align: right;\">\n      <th></th>\n      <th>Total Count</th>\n      <th>Percentage of Players</th>\n    </tr>\n    <tr>\n      <th>Age Demographics</th>\n      <th></th>\n      <th></th>\n    </tr>\n  </thead>\n  <tbody>\n    <tr>\n      <th>&lt;10</th>\n      <td>17</td>\n      <td>2.95</td>\n    </tr>\n    <tr>\n      <th>10-14</th>\n      <td>22</td>\n      <td>3.82</td>\n    </tr>\n    <tr>\n      <th>15-19</th>\n      <td>107</td>\n      <td>18.58</td>\n    </tr>\n    <tr>\n      <th>20-24</th>\n      <td>258</td>\n      <td>44.79</td>\n    </tr>\n    <tr>\n      <th>25-29</th>\n      <td>77</td>\n      <td>13.37</td>\n    </tr>\n    <tr>\n      <th>30-34</th>\n      <td>52</td>\n      <td>9.03</td>\n    </tr>\n    <tr>\n      <th>35-39</th>\n      <td>31</td>\n      <td>5.38</td>\n    </tr>\n    <tr>\n      <th>40+</th>\n      <td>12</td>\n      <td>2.08</td>\n    </tr>\n  </tbody>\n</table>\n</div>"
     },
     "metadata": {},
     "execution_count": 36
    }
   ],
   "source": [
    "#age demographics summary table\n",
    "age_demographics_df = pd.merge(age_count, age_percentage, on=\"Age Demographics\", how=\"outer\")\n",
    "age_demographics_df = age_demographics_df.rename(columns={\"Age_x\":\"Total Count\",\"Age_y\":\"Percentage of Players\"})\n",
    "age_demographics_df"
   ]
  },
  {
   "cell_type": "code",
   "execution_count": 135,
   "metadata": {},
   "outputs": [],
   "source": [
    "bins = [0,9,14,19,24,29,34,39,90]\n",
    "\n",
    "labels = [\"<10\", \"10-14\", \"15-19\", \"20-24\", \"25-29\", \"30-34\", \"35-39\", \"40+\"]\n",
    "\n",
    "heroes_df[\"Age Demographics\"] = pd.cut(heroes_df[\"Age\"], bins, labels=labels)\n"
   ]
  },
  {
   "cell_type": "code",
   "execution_count": 47,
   "metadata": {},
   "outputs": [
    {
     "output_type": "execute_result",
     "data": {
      "text/plain": [
       "Age Demographics\n",
       "<10       23\n",
       "10-14     28\n",
       "15-19    136\n",
       "20-24    365\n",
       "25-29    101\n",
       "30-34     73\n",
       "35-39     41\n",
       "40+       13\n",
       "Name: Price, dtype: int64"
      ]
     },
     "metadata": {},
     "execution_count": 47
    }
   ],
   "source": [
    "#pruchase count by age group\n",
    "age_price_df = heroes_df.groupby(\"Age Demographics\")\n",
    "age_price_count=age_price_df[\"Price\"].count()\n",
    "age_price_count"
   ]
  },
  {
   "cell_type": "code",
   "execution_count": 50,
   "metadata": {},
   "outputs": [
    {
     "output_type": "execute_result",
     "data": {
      "text/plain": [
       "Age Demographics\n",
       "<10      3.35\n",
       "10-14    2.96\n",
       "15-19    3.04\n",
       "20-24    3.05\n",
       "25-29    2.90\n",
       "30-34    2.93\n",
       "35-39    3.60\n",
       "40+      2.94\n",
       "Name: Price, dtype: float64"
      ]
     },
     "metadata": {},
     "execution_count": 50
    }
   ],
   "source": [
    "#average purchase price by age group\n",
    "average_price_age_group = round(age_price_df[\"Price\"].mean(),2)\n",
    "average_price_age_group"
   ]
  },
  {
   "cell_type": "code",
   "execution_count": 51,
   "metadata": {},
   "outputs": [
    {
     "output_type": "execute_result",
     "data": {
      "text/plain": [
       "Age Demographics\n",
       "<10        77.13\n",
       "10-14      82.78\n",
       "15-19     412.89\n",
       "20-24    1114.06\n",
       "25-29     293.00\n",
       "30-34     214.00\n",
       "35-39     147.67\n",
       "40+        38.24\n",
       "Name: Price, dtype: float64"
      ]
     },
     "metadata": {},
     "execution_count": 51
    }
   ],
   "source": [
    "#total purchase value by age group\n",
    "age_group_purchase_total = age_price_df[\"Price\"].sum()\n",
    "age_group_purchase_total"
   ]
  },
  {
   "cell_type": "code",
   "execution_count": 56,
   "metadata": {},
   "outputs": [
    {
     "output_type": "execute_result",
     "data": {
      "text/plain": [
       "Age Demographics\n",
       "<10      3.353478\n",
       "10-14    2.956429\n",
       "15-19    3.035956\n",
       "20-24    3.052219\n",
       "25-29    2.900990\n",
       "30-34    2.931507\n",
       "35-39    3.601707\n",
       "40+      2.941538\n",
       "Name: Price, dtype: float64"
      ]
     },
     "metadata": {},
     "execution_count": 56
    }
   ],
   "source": [
    "#average total purchase per person by age group\n",
    "age_group_purchase_average = age_group_purchase_total/age_price_count\n",
    "age_group_purchase_average"
   ]
  },
  {
   "cell_type": "code",
   "execution_count": 100,
   "metadata": {},
   "outputs": [],
   "source": [
    "# top spenders by SN\n",
    "sn_group_df = heroes_df.groupby(\"SN\")\n",
    "\n",
    "sn_count = sn_group_df.count()\n",
    "\n",
    "top_spenders = sn_count.sort_values(\"Item ID\", ascending=False)\n",
    "\n",
    "top_spenders_df = top_spenders[[\"Item ID\"]]"
   ]
  },
  {
   "cell_type": "code",
   "execution_count": 101,
   "metadata": {},
   "outputs": [],
   "source": [
    "#top average purchase price\n",
    "sn_average_purchase = round(sn_group_df.mean(),2)\n",
    "\n",
    "top_average_purchase = sn_average_purchase.sort_values(\"Price\", ascending=False)\n",
    "\n",
    "top_average_purchase_df = top_average_purchase[[\"Price\"]]"
   ]
  },
  {
   "cell_type": "code",
   "execution_count": 102,
   "metadata": {},
   "outputs": [],
   "source": [
    "sn_total_purchase = sn_group_df.sum()\n",
    "top_total_purchase = sn_total_purchase.sort_values(\"Price\", ascending=False)\n",
    "\n",
    "top_total_purchase_df = top_total_purchase[[\"Price\"]]"
   ]
  },
  {
   "cell_type": "code",
   "execution_count": 103,
   "metadata": {},
   "outputs": [],
   "source": [
    "top_merged = pd.merge(top_spenders_df, top_average_purchase_df, on=\"SN\", how=\"outer\")\n",
    "top_merged_renamed = top_merged.rename(columns={\"Item ID\":\"Purchase Count\",\"Price\":\"Average Purchase Price\"})"
   ]
  },
  {
   "cell_type": "code",
   "execution_count": 99,
   "metadata": {},
   "outputs": [
    {
     "output_type": "execute_result",
     "data": {
      "text/plain": [
       "             Purchase Count  Average Purchase Price  Total Purchase Value\n",
       "SN                                                                       \n",
       "Lisosia93                 5                    3.79                 18.96\n",
       "Iral74                    4                    3.40                 13.62\n",
       "Idastidru52               4                    3.86                 15.45\n",
       "Asur53                    3                    2.48                  7.44\n",
       "Inguron55                 3                    3.70                 11.11"
      ],
      "text/html": "<div>\n<style scoped>\n    .dataframe tbody tr th:only-of-type {\n        vertical-align: middle;\n    }\n\n    .dataframe tbody tr th {\n        vertical-align: top;\n    }\n\n    .dataframe thead th {\n        text-align: right;\n    }\n</style>\n<table border=\"1\" class=\"dataframe\">\n  <thead>\n    <tr style=\"text-align: right;\">\n      <th></th>\n      <th>Purchase Count</th>\n      <th>Average Purchase Price</th>\n      <th>Total Purchase Value</th>\n    </tr>\n    <tr>\n      <th>SN</th>\n      <th></th>\n      <th></th>\n      <th></th>\n    </tr>\n  </thead>\n  <tbody>\n    <tr>\n      <th>Lisosia93</th>\n      <td>5</td>\n      <td>3.79</td>\n      <td>18.96</td>\n    </tr>\n    <tr>\n      <th>Iral74</th>\n      <td>4</td>\n      <td>3.40</td>\n      <td>13.62</td>\n    </tr>\n    <tr>\n      <th>Idastidru52</th>\n      <td>4</td>\n      <td>3.86</td>\n      <td>15.45</td>\n    </tr>\n    <tr>\n      <th>Asur53</th>\n      <td>3</td>\n      <td>2.48</td>\n      <td>7.44</td>\n    </tr>\n    <tr>\n      <th>Inguron55</th>\n      <td>3</td>\n      <td>3.70</td>\n      <td>11.11</td>\n    </tr>\n  </tbody>\n</table>\n</div>"
     },
     "metadata": {},
     "execution_count": 99
    }
   ],
   "source": [
    "top_merged_final = pd.merge(top_merged_renamed, top_total_purchase_df, on=\"SN\", how=\"outer\")\n",
    "top_merged_final\n",
    "top_merged_final_renamed = top_merged_final.rename(columns={\"Price\":\"Total Purchase Value\"})\n",
    "top_merged_final_renamed.head()"
   ]
  },
  {
   "cell_type": "code",
   "execution_count": 115,
   "metadata": {},
   "outputs": [
    {
     "output_type": "execute_result",
     "data": {
      "text/plain": [
       "                                                      Purchase ID\n",
       "Item ID Item Name                                                \n",
       "92      Final Critic                                           13\n",
       "178     Oathbreaker, Last Hope of the Breaking Storm           12\n",
       "145     Fiery Glass Crusader                                    9\n",
       "132     Persuasion                                              9\n",
       "108     Extraction, Quickblade Of Trembling Hands               9"
      ],
      "text/html": "<div>\n<style scoped>\n    .dataframe tbody tr th:only-of-type {\n        vertical-align: middle;\n    }\n\n    .dataframe tbody tr th {\n        vertical-align: top;\n    }\n\n    .dataframe thead th {\n        text-align: right;\n    }\n</style>\n<table border=\"1\" class=\"dataframe\">\n  <thead>\n    <tr style=\"text-align: right;\">\n      <th></th>\n      <th></th>\n      <th>Purchase ID</th>\n    </tr>\n    <tr>\n      <th>Item ID</th>\n      <th>Item Name</th>\n      <th></th>\n    </tr>\n  </thead>\n  <tbody>\n    <tr>\n      <th>92</th>\n      <th>Final Critic</th>\n      <td>13</td>\n    </tr>\n    <tr>\n      <th>178</th>\n      <th>Oathbreaker, Last Hope of the Breaking Storm</th>\n      <td>12</td>\n    </tr>\n    <tr>\n      <th>145</th>\n      <th>Fiery Glass Crusader</th>\n      <td>9</td>\n    </tr>\n    <tr>\n      <th>132</th>\n      <th>Persuasion</th>\n      <td>9</td>\n    </tr>\n    <tr>\n      <th>108</th>\n      <th>Extraction, Quickblade Of Trembling Hands</th>\n      <td>9</td>\n    </tr>\n  </tbody>\n</table>\n</div>"
     },
     "metadata": {},
     "execution_count": 115
    }
   ],
   "source": [
    "most_popular_df = heroes_df.groupby([\"Item ID\",\"Item Name\"])\n",
    "purchase_count = most_popular_df.count()\n",
    "\n",
    "purchase_count_sorted = purchase_count.sort_values(\"Purchase ID\", ascending=False)\n",
    "\n",
    "purchase_count_df = purchase_count_sorted[[\"Purchase ID\"]]\n",
    "purchase_count_df.head()"
   ]
  },
  {
   "cell_type": "code",
   "execution_count": 116,
   "metadata": {},
   "outputs": [
    {
     "output_type": "execute_result",
     "data": {
      "text/plain": [
       "                                           Price\n",
       "Item ID Item Name                               \n",
       "63      Stormfury Mace                      4.99\n",
       "139     Mercy, Katana of Dismay             4.94\n",
       "173     Stormfury Longsword                 4.93\n",
       "147     Hellreaver, Heirloom of Inception   4.93\n",
       "128     Blazeguard, Reach of Eternity       4.91\n",
       "...                                          ...\n",
       "70      Hope's End                          1.03\n",
       "19      Pursuit, Cudgel of Necromancy       1.02\n",
       "12      Dawne                               1.02\n",
       "155     War-Forged Gold Deflector           1.01\n",
       "125     Whistling Mithril Warblade          1.00\n",
       "\n",
       "[179 rows x 1 columns]"
      ],
      "text/html": "<div>\n<style scoped>\n    .dataframe tbody tr th:only-of-type {\n        vertical-align: middle;\n    }\n\n    .dataframe tbody tr th {\n        vertical-align: top;\n    }\n\n    .dataframe thead th {\n        text-align: right;\n    }\n</style>\n<table border=\"1\" class=\"dataframe\">\n  <thead>\n    <tr style=\"text-align: right;\">\n      <th></th>\n      <th></th>\n      <th>Price</th>\n    </tr>\n    <tr>\n      <th>Item ID</th>\n      <th>Item Name</th>\n      <th></th>\n    </tr>\n  </thead>\n  <tbody>\n    <tr>\n      <th>63</th>\n      <th>Stormfury Mace</th>\n      <td>4.99</td>\n    </tr>\n    <tr>\n      <th>139</th>\n      <th>Mercy, Katana of Dismay</th>\n      <td>4.94</td>\n    </tr>\n    <tr>\n      <th>173</th>\n      <th>Stormfury Longsword</th>\n      <td>4.93</td>\n    </tr>\n    <tr>\n      <th>147</th>\n      <th>Hellreaver, Heirloom of Inception</th>\n      <td>4.93</td>\n    </tr>\n    <tr>\n      <th>128</th>\n      <th>Blazeguard, Reach of Eternity</th>\n      <td>4.91</td>\n    </tr>\n    <tr>\n      <th>...</th>\n      <th>...</th>\n      <td>...</td>\n    </tr>\n    <tr>\n      <th>70</th>\n      <th>Hope's End</th>\n      <td>1.03</td>\n    </tr>\n    <tr>\n      <th>19</th>\n      <th>Pursuit, Cudgel of Necromancy</th>\n      <td>1.02</td>\n    </tr>\n    <tr>\n      <th>12</th>\n      <th>Dawne</th>\n      <td>1.02</td>\n    </tr>\n    <tr>\n      <th>155</th>\n      <th>War-Forged Gold Deflector</th>\n      <td>1.01</td>\n    </tr>\n    <tr>\n      <th>125</th>\n      <th>Whistling Mithril Warblade</th>\n      <td>1.00</td>\n    </tr>\n  </tbody>\n</table>\n<p>179 rows × 1 columns</p>\n</div>"
     },
     "metadata": {},
     "execution_count": 116
    }
   ],
   "source": [
    "item_price = round(most_popular_df.mean(),2)\n",
    "item_price_sorted = item_price.sort_values(\"Price\", ascending=False)\n",
    "\n",
    "item_price_df = item_price_sorted[[\"Price\"]]\n",
    "item_price_df"
   ]
  },
  {
   "cell_type": "code",
   "execution_count": 122,
   "metadata": {},
   "outputs": [
    {
     "output_type": "execute_result",
     "data": {
      "text/plain": [
       "                                                      Purchase ID  Price\n",
       "Item ID Item Name                                                       \n",
       "92      Final Critic                                           13   4.61\n",
       "178     Oathbreaker, Last Hope of the Breaking Storm           12   4.23\n",
       "145     Fiery Glass Crusader                                    9   4.58\n",
       "132     Persuasion                                              9   3.22\n",
       "108     Extraction, Quickblade Of Trembling Hands               9   3.53\n",
       "...                                                           ...    ...\n",
       "42      The Decapitator                                         1   1.75\n",
       "51      Endbringer                                              1   4.66\n",
       "118     Ghost Reaver, Longsword of Magic                        1   2.17\n",
       "104     Gladiator's Glaive                                      1   1.93\n",
       "91      Celeste                                                 1   4.17\n",
       "\n",
       "[179 rows x 2 columns]"
      ],
      "text/html": "<div>\n<style scoped>\n    .dataframe tbody tr th:only-of-type {\n        vertical-align: middle;\n    }\n\n    .dataframe tbody tr th {\n        vertical-align: top;\n    }\n\n    .dataframe thead th {\n        text-align: right;\n    }\n</style>\n<table border=\"1\" class=\"dataframe\">\n  <thead>\n    <tr style=\"text-align: right;\">\n      <th></th>\n      <th></th>\n      <th>Purchase ID</th>\n      <th>Price</th>\n    </tr>\n    <tr>\n      <th>Item ID</th>\n      <th>Item Name</th>\n      <th></th>\n      <th></th>\n    </tr>\n  </thead>\n  <tbody>\n    <tr>\n      <th>92</th>\n      <th>Final Critic</th>\n      <td>13</td>\n      <td>4.61</td>\n    </tr>\n    <tr>\n      <th>178</th>\n      <th>Oathbreaker, Last Hope of the Breaking Storm</th>\n      <td>12</td>\n      <td>4.23</td>\n    </tr>\n    <tr>\n      <th>145</th>\n      <th>Fiery Glass Crusader</th>\n      <td>9</td>\n      <td>4.58</td>\n    </tr>\n    <tr>\n      <th>132</th>\n      <th>Persuasion</th>\n      <td>9</td>\n      <td>3.22</td>\n    </tr>\n    <tr>\n      <th>108</th>\n      <th>Extraction, Quickblade Of Trembling Hands</th>\n      <td>9</td>\n      <td>3.53</td>\n    </tr>\n    <tr>\n      <th>...</th>\n      <th>...</th>\n      <td>...</td>\n      <td>...</td>\n    </tr>\n    <tr>\n      <th>42</th>\n      <th>The Decapitator</th>\n      <td>1</td>\n      <td>1.75</td>\n    </tr>\n    <tr>\n      <th>51</th>\n      <th>Endbringer</th>\n      <td>1</td>\n      <td>4.66</td>\n    </tr>\n    <tr>\n      <th>118</th>\n      <th>Ghost Reaver, Longsword of Magic</th>\n      <td>1</td>\n      <td>2.17</td>\n    </tr>\n    <tr>\n      <th>104</th>\n      <th>Gladiator's Glaive</th>\n      <td>1</td>\n      <td>1.93</td>\n    </tr>\n    <tr>\n      <th>91</th>\n      <th>Celeste</th>\n      <td>1</td>\n      <td>4.17</td>\n    </tr>\n  </tbody>\n</table>\n<p>179 rows × 2 columns</p>\n</div>"
     },
     "metadata": {},
     "execution_count": 122
    }
   ],
   "source": [
    "popular_merged_initial = pd.merge(purchase_count_df, item_price_df, on=[\"Item ID\",\"Item Name\"], how=\"outer\")\n",
    "popular_merged_initial"
   ]
  },
  {
   "cell_type": "code",
   "execution_count": 126,
   "metadata": {},
   "outputs": [],
   "source": [
    "popular_total_purchase = most_popular_df.sum()\n",
    "popular_total_purchase_sorted = popular_total_purchase.sort_values(\"Price\", ascending=False)\n",
    "popular_total_purchase_df = popular_total_purchase_sorted[[\"Price\"]]"
   ]
  },
  {
   "cell_type": "code",
   "execution_count": 130,
   "metadata": {},
   "outputs": [
    {
     "output_type": "execute_result",
     "data": {
      "text/plain": [
       "                                                      Purchase Count  \\\n",
       "Item ID Item Name                                                      \n",
       "92      Final Critic                                              13   \n",
       "178     Oathbreaker, Last Hope of the Breaking Storm              12   \n",
       "145     Fiery Glass Crusader                                       9   \n",
       "132     Persuasion                                                 9   \n",
       "108     Extraction, Quickblade Of Trembling Hands                  9   \n",
       "\n",
       "                                                      Item Price  \\\n",
       "Item ID Item Name                                                  \n",
       "92      Final Critic                                        4.61   \n",
       "178     Oathbreaker, Last Hope of the Breaking Storm        4.23   \n",
       "145     Fiery Glass Crusader                                4.58   \n",
       "132     Persuasion                                          3.22   \n",
       "108     Extraction, Quickblade Of Trembling Hands           3.53   \n",
       "\n",
       "                                                      Total Purchase Value  \n",
       "Item ID Item Name                                                           \n",
       "92      Final Critic                                                 59.99  \n",
       "178     Oathbreaker, Last Hope of the Breaking Storm                 50.76  \n",
       "145     Fiery Glass Crusader                                         41.22  \n",
       "132     Persuasion                                                   28.99  \n",
       "108     Extraction, Quickblade Of Trembling Hands                    31.77  "
      ],
      "text/html": "<div>\n<style scoped>\n    .dataframe tbody tr th:only-of-type {\n        vertical-align: middle;\n    }\n\n    .dataframe tbody tr th {\n        vertical-align: top;\n    }\n\n    .dataframe thead th {\n        text-align: right;\n    }\n</style>\n<table border=\"1\" class=\"dataframe\">\n  <thead>\n    <tr style=\"text-align: right;\">\n      <th></th>\n      <th></th>\n      <th>Purchase Count</th>\n      <th>Item Price</th>\n      <th>Total Purchase Value</th>\n    </tr>\n    <tr>\n      <th>Item ID</th>\n      <th>Item Name</th>\n      <th></th>\n      <th></th>\n      <th></th>\n    </tr>\n  </thead>\n  <tbody>\n    <tr>\n      <th>92</th>\n      <th>Final Critic</th>\n      <td>13</td>\n      <td>4.61</td>\n      <td>59.99</td>\n    </tr>\n    <tr>\n      <th>178</th>\n      <th>Oathbreaker, Last Hope of the Breaking Storm</th>\n      <td>12</td>\n      <td>4.23</td>\n      <td>50.76</td>\n    </tr>\n    <tr>\n      <th>145</th>\n      <th>Fiery Glass Crusader</th>\n      <td>9</td>\n      <td>4.58</td>\n      <td>41.22</td>\n    </tr>\n    <tr>\n      <th>132</th>\n      <th>Persuasion</th>\n      <td>9</td>\n      <td>3.22</td>\n      <td>28.99</td>\n    </tr>\n    <tr>\n      <th>108</th>\n      <th>Extraction, Quickblade Of Trembling Hands</th>\n      <td>9</td>\n      <td>3.53</td>\n      <td>31.77</td>\n    </tr>\n  </tbody>\n</table>\n</div>"
     },
     "metadata": {},
     "execution_count": 130
    }
   ],
   "source": [
    "popular_merged_final = pd.merge(popular_merged_initial, popular_total_purchase_df, on=[\"Item ID\",\"Item Name\"], how=\"outer\")\n",
    "\n",
    "popular_merged_final_renamed = popular_merged_final.rename(columns={\"Purchase ID\":\"Purchase Count\",\"Price_x\":\"Item Price\",\"Price_y\":\"Total Purchase Value\"})\n",
    "popular_merged_final_renamed.head()"
   ]
  },
  {
   "cell_type": "code",
   "execution_count": 137,
   "metadata": {},
   "outputs": [
    {
     "output_type": "execute_result",
     "data": {
      "text/plain": [
       "                                                      Price  Purchase ID\n",
       "Item ID Item Name                                                       \n",
       "92      Final Critic                                  59.99           13\n",
       "178     Oathbreaker, Last Hope of the Breaking Storm  50.76           12\n",
       "82      Nirvana                                       44.10            9\n",
       "145     Fiery Glass Crusader                          41.22            9\n",
       "103     Singed Scalpel                                34.80            8"
      ],
      "text/html": "<div>\n<style scoped>\n    .dataframe tbody tr th:only-of-type {\n        vertical-align: middle;\n    }\n\n    .dataframe tbody tr th {\n        vertical-align: top;\n    }\n\n    .dataframe thead th {\n        text-align: right;\n    }\n</style>\n<table border=\"1\" class=\"dataframe\">\n  <thead>\n    <tr style=\"text-align: right;\">\n      <th></th>\n      <th></th>\n      <th>Price</th>\n      <th>Purchase ID</th>\n    </tr>\n    <tr>\n      <th>Item ID</th>\n      <th>Item Name</th>\n      <th></th>\n      <th></th>\n    </tr>\n  </thead>\n  <tbody>\n    <tr>\n      <th>92</th>\n      <th>Final Critic</th>\n      <td>59.99</td>\n      <td>13</td>\n    </tr>\n    <tr>\n      <th>178</th>\n      <th>Oathbreaker, Last Hope of the Breaking Storm</th>\n      <td>50.76</td>\n      <td>12</td>\n    </tr>\n    <tr>\n      <th>82</th>\n      <th>Nirvana</th>\n      <td>44.10</td>\n      <td>9</td>\n    </tr>\n    <tr>\n      <th>145</th>\n      <th>Fiery Glass Crusader</th>\n      <td>41.22</td>\n      <td>9</td>\n    </tr>\n    <tr>\n      <th>103</th>\n      <th>Singed Scalpel</th>\n      <td>34.80</td>\n      <td>8</td>\n    </tr>\n  </tbody>\n</table>\n</div>"
     },
     "metadata": {},
     "execution_count": 137
    }
   ],
   "source": [
    "profit_merge = pd.merge(popular_total_purchase_df, purchase_count_df, on=[\"Item ID\",\"Item Name\"], how=\"outer\")\n",
    "profit_merge.head()"
   ]
  },
  {
   "cell_type": "code",
   "execution_count": 138,
   "metadata": {},
   "outputs": [
    {
     "output_type": "execute_result",
     "data": {
      "text/plain": [
       "                                                      Price_x  Purchase ID  \\\n",
       "Item ID Item Name                                                            \n",
       "92      Final Critic                                    59.99           13   \n",
       "178     Oathbreaker, Last Hope of the Breaking Storm    50.76           12   \n",
       "82      Nirvana                                         44.10            9   \n",
       "145     Fiery Glass Crusader                            41.22            9   \n",
       "103     Singed Scalpel                                  34.80            8   \n",
       "\n",
       "                                                      Price_y  \n",
       "Item ID Item Name                                              \n",
       "92      Final Critic                                     4.61  \n",
       "178     Oathbreaker, Last Hope of the Breaking Storm     4.23  \n",
       "82      Nirvana                                          4.90  \n",
       "145     Fiery Glass Crusader                             4.58  \n",
       "103     Singed Scalpel                                   4.35  "
      ],
      "text/html": "<div>\n<style scoped>\n    .dataframe tbody tr th:only-of-type {\n        vertical-align: middle;\n    }\n\n    .dataframe tbody tr th {\n        vertical-align: top;\n    }\n\n    .dataframe thead th {\n        text-align: right;\n    }\n</style>\n<table border=\"1\" class=\"dataframe\">\n  <thead>\n    <tr style=\"text-align: right;\">\n      <th></th>\n      <th></th>\n      <th>Price_x</th>\n      <th>Purchase ID</th>\n      <th>Price_y</th>\n    </tr>\n    <tr>\n      <th>Item ID</th>\n      <th>Item Name</th>\n      <th></th>\n      <th></th>\n      <th></th>\n    </tr>\n  </thead>\n  <tbody>\n    <tr>\n      <th>92</th>\n      <th>Final Critic</th>\n      <td>59.99</td>\n      <td>13</td>\n      <td>4.61</td>\n    </tr>\n    <tr>\n      <th>178</th>\n      <th>Oathbreaker, Last Hope of the Breaking Storm</th>\n      <td>50.76</td>\n      <td>12</td>\n      <td>4.23</td>\n    </tr>\n    <tr>\n      <th>82</th>\n      <th>Nirvana</th>\n      <td>44.10</td>\n      <td>9</td>\n      <td>4.90</td>\n    </tr>\n    <tr>\n      <th>145</th>\n      <th>Fiery Glass Crusader</th>\n      <td>41.22</td>\n      <td>9</td>\n      <td>4.58</td>\n    </tr>\n    <tr>\n      <th>103</th>\n      <th>Singed Scalpel</th>\n      <td>34.80</td>\n      <td>8</td>\n      <td>4.35</td>\n    </tr>\n  </tbody>\n</table>\n</div>"
     },
     "metadata": {},
     "execution_count": 138
    }
   ],
   "source": [
    "most_profitable_items = pd.merge(profit_merge, item_price_df, on=[\"Item ID\",\"Item Name\"], how=\"outer\")\n",
    "most_profitable_items.head()"
   ]
  },
  {
   "cell_type": "code",
   "execution_count": 140,
   "metadata": {},
   "outputs": [
    {
     "output_type": "execute_result",
     "data": {
      "text/plain": [
       "                                                      Total Purchase Value  \\\n",
       "Item ID Item Name                                                            \n",
       "92      Final Critic                                                 59.99   \n",
       "178     Oathbreaker, Last Hope of the Breaking Storm                 50.76   \n",
       "82      Nirvana                                                      44.10   \n",
       "145     Fiery Glass Crusader                                         41.22   \n",
       "103     Singed Scalpel                                               34.80   \n",
       "\n",
       "                                                      Purchase Count  \\\n",
       "Item ID Item Name                                                      \n",
       "92      Final Critic                                              13   \n",
       "178     Oathbreaker, Last Hope of the Breaking Storm              12   \n",
       "82      Nirvana                                                    9   \n",
       "145     Fiery Glass Crusader                                       9   \n",
       "103     Singed Scalpel                                             8   \n",
       "\n",
       "                                                      Item Price  \n",
       "Item ID Item Name                                                 \n",
       "92      Final Critic                                        4.61  \n",
       "178     Oathbreaker, Last Hope of the Breaking Storm        4.23  \n",
       "82      Nirvana                                             4.90  \n",
       "145     Fiery Glass Crusader                                4.58  \n",
       "103     Singed Scalpel                                      4.35  "
      ],
      "text/html": "<div>\n<style scoped>\n    .dataframe tbody tr th:only-of-type {\n        vertical-align: middle;\n    }\n\n    .dataframe tbody tr th {\n        vertical-align: top;\n    }\n\n    .dataframe thead th {\n        text-align: right;\n    }\n</style>\n<table border=\"1\" class=\"dataframe\">\n  <thead>\n    <tr style=\"text-align: right;\">\n      <th></th>\n      <th></th>\n      <th>Total Purchase Value</th>\n      <th>Purchase Count</th>\n      <th>Item Price</th>\n    </tr>\n    <tr>\n      <th>Item ID</th>\n      <th>Item Name</th>\n      <th></th>\n      <th></th>\n      <th></th>\n    </tr>\n  </thead>\n  <tbody>\n    <tr>\n      <th>92</th>\n      <th>Final Critic</th>\n      <td>59.99</td>\n      <td>13</td>\n      <td>4.61</td>\n    </tr>\n    <tr>\n      <th>178</th>\n      <th>Oathbreaker, Last Hope of the Breaking Storm</th>\n      <td>50.76</td>\n      <td>12</td>\n      <td>4.23</td>\n    </tr>\n    <tr>\n      <th>82</th>\n      <th>Nirvana</th>\n      <td>44.10</td>\n      <td>9</td>\n      <td>4.90</td>\n    </tr>\n    <tr>\n      <th>145</th>\n      <th>Fiery Glass Crusader</th>\n      <td>41.22</td>\n      <td>9</td>\n      <td>4.58</td>\n    </tr>\n    <tr>\n      <th>103</th>\n      <th>Singed Scalpel</th>\n      <td>34.80</td>\n      <td>8</td>\n      <td>4.35</td>\n    </tr>\n  </tbody>\n</table>\n</div>"
     },
     "metadata": {},
     "execution_count": 140
    }
   ],
   "source": [
    "most_profitable_items_renamed = most_profitable_items.rename(columns={\"Price_x\":\"Total Purchase Value\",\"Purchase ID\":\"Purchase Count\",\"Price_y\":\"Item Price\"})\n",
    "most_profitable_items_renamed.head()"
   ]
  },
  {
   "cell_type": "code",
   "execution_count": null,
   "metadata": {},
   "outputs": [],
   "source": []
  }
 ],
 "metadata": {
  "anaconda-cloud": {},
  "kernel_info": {
   "name": "python3"
  },
  "kernelspec": {
   "name": "python385jvsc74a57bd01d6786ebcd63f5df40db94668ebe7bfe6302826f5d70c0b4604fe7e8fe7c98d1",
   "display_name": "Python 3.8.5 64-bit (conda)"
  },
  "language_info": {
   "codemirror_mode": {
    "name": "ipython",
    "version": 3
   },
   "file_extension": ".py",
   "mimetype": "text/x-python",
   "name": "python",
   "nbconvert_exporter": "python",
   "pygments_lexer": "ipython3",
   "version": "3.8.5-final"
  },
  "latex_envs": {
   "LaTeX_envs_menu_present": true,
   "autoclose": false,
   "autocomplete": true,
   "bibliofile": "biblio.bib",
   "cite_by": "apalike",
   "current_citInitial": 1,
   "eqLabelWithNumbers": true,
   "eqNumInitial": 1,
   "hotkeys": {
    "equation": "Ctrl-E",
    "itemize": "Ctrl-I"
   },
   "labels_anchors": false,
   "latex_user_defs": false,
   "report_style_numbering": false,
   "user_envs_cfg": false
  },
  "nteract": {
   "version": "0.2.0"
  }
 },
 "nbformat": 4,
 "nbformat_minor": 2
}